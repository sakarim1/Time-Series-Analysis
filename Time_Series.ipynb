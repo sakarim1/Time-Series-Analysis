{
 "cells": [
  {
   "cell_type": "markdown",
   "metadata": {
    "slideshow": null
   },
   "source": [
    " # Time Series Analysis: Predicting Temparature"
   ]
  },
  {
   "cell_type": "code",
   "execution_count": 46,
   "metadata": {
    "slideshow": null
   },
   "outputs": [],
   "source": [
    "!aws s3 sync s3://.../mldata/ . --exclude '*' --include 'train.txt.gz'"
   ]
  },
  {
   "cell_type": "code",
   "execution_count": 50,
   "metadata": {
    "slideshow": null
   },
   "outputs": [],
   "source": [
    "def load_stream(stream):\n",
    "    return pd.read_csv(stream, sep=' +', engine='python',\n",
    "                         names=['year', 'month', 'day', 'hour', 'temp',\n",
    "                                'dew_temp', 'pressure', 'wind_angle', \n",
    "                                'wind_speed', 'sky_code', 'rain_hour',\n",
    "                                'rain_6hour', 'city'])"
   ]
  },
  {
   "cell_type": "code",
   "execution_count": 51,
   "metadata": {
    "slideshow": null
   },
   "outputs": [],
   "source": [
    "df = load_stream(gzip.open('train.txt.gz', 'rt'))"
   ]
  },
  {
   "cell_type": "code",
   "execution_count": 53,
   "metadata": {},
   "outputs": [
    {
     "data": {
      "text/html": [
       "<div>\n",
       "<style scoped>\n",
       "    .dataframe tbody tr th:only-of-type {\n",
       "        vertical-align: middle;\n",
       "    }\n",
       "\n",
       "    .dataframe tbody tr th {\n",
       "        vertical-align: top;\n",
       "    }\n",
       "\n",
       "    .dataframe thead th {\n",
       "        text-align: right;\n",
       "    }\n",
       "</style>\n",
       "<table border=\"1\" class=\"dataframe\">\n",
       "  <thead>\n",
       "    <tr style=\"text-align: right;\">\n",
       "      <th></th>\n",
       "      <th>year</th>\n",
       "      <th>month</th>\n",
       "      <th>day</th>\n",
       "      <th>hour</th>\n",
       "      <th>temp</th>\n",
       "      <th>dew_temp</th>\n",
       "      <th>pressure</th>\n",
       "      <th>wind_angle</th>\n",
       "      <th>wind_speed</th>\n",
       "      <th>sky_code</th>\n",
       "      <th>rain_hour</th>\n",
       "      <th>rain_6hour</th>\n",
       "    </tr>\n",
       "  </thead>\n",
       "  <tbody>\n",
       "    <tr>\n",
       "      <th>count</th>\n",
       "      <td>525869.000000</td>\n",
       "      <td>525869.000000</td>\n",
       "      <td>525869.000000</td>\n",
       "      <td>525869.000000</td>\n",
       "      <td>525869.000000</td>\n",
       "      <td>525869.000000</td>\n",
       "      <td>525869.000000</td>\n",
       "      <td>525869.000000</td>\n",
       "      <td>525869.000000</td>\n",
       "      <td>525869.000000</td>\n",
       "      <td>525869.000000</td>\n",
       "      <td>525869.000000</td>\n",
       "    </tr>\n",
       "    <tr>\n",
       "      <th>mean</th>\n",
       "      <td>2005.499349</td>\n",
       "      <td>6.523016</td>\n",
       "      <td>15.729663</td>\n",
       "      <td>11.499887</td>\n",
       "      <td>-76.307965</td>\n",
       "      <td>-142.707722</td>\n",
       "      <td>9672.123533</td>\n",
       "      <td>-224.544584</td>\n",
       "      <td>-169.008468</td>\n",
       "      <td>-129.403713</td>\n",
       "      <td>-17.965936</td>\n",
       "      <td>-9231.872328</td>\n",
       "    </tr>\n",
       "    <tr>\n",
       "      <th>std</th>\n",
       "      <td>3.452084</td>\n",
       "      <td>3.448686</td>\n",
       "      <td>8.800135</td>\n",
       "      <td>6.922240</td>\n",
       "      <td>1405.382671</td>\n",
       "      <td>1399.640272</td>\n",
       "      <td>3115.959808</td>\n",
       "      <td>2011.242691</td>\n",
       "      <td>1442.698025</td>\n",
       "      <td>1152.403884</td>\n",
       "      <td>436.947495</td>\n",
       "      <td>2663.638668</td>\n",
       "    </tr>\n",
       "    <tr>\n",
       "      <th>min</th>\n",
       "      <td>2000.000000</td>\n",
       "      <td>1.000000</td>\n",
       "      <td>1.000000</td>\n",
       "      <td>0.000000</td>\n",
       "      <td>-9999.000000</td>\n",
       "      <td>-9999.000000</td>\n",
       "      <td>-9999.000000</td>\n",
       "      <td>-9999.000000</td>\n",
       "      <td>-9999.000000</td>\n",
       "      <td>-9999.000000</td>\n",
       "      <td>-9999.000000</td>\n",
       "      <td>-9999.000000</td>\n",
       "    </tr>\n",
       "    <tr>\n",
       "      <th>25%</th>\n",
       "      <td>2002.000000</td>\n",
       "      <td>4.000000</td>\n",
       "      <td>8.000000</td>\n",
       "      <td>5.000000</td>\n",
       "      <td>33.000000</td>\n",
       "      <td>-30.000000</td>\n",
       "      <td>10113.000000</td>\n",
       "      <td>70.000000</td>\n",
       "      <td>26.000000</td>\n",
       "      <td>2.000000</td>\n",
       "      <td>0.000000</td>\n",
       "      <td>-9999.000000</td>\n",
       "    </tr>\n",
       "    <tr>\n",
       "      <th>50%</th>\n",
       "      <td>2005.000000</td>\n",
       "      <td>7.000000</td>\n",
       "      <td>16.000000</td>\n",
       "      <td>11.000000</td>\n",
       "      <td>122.000000</td>\n",
       "      <td>61.000000</td>\n",
       "      <td>10163.000000</td>\n",
       "      <td>200.000000</td>\n",
       "      <td>41.000000</td>\n",
       "      <td>7.000000</td>\n",
       "      <td>0.000000</td>\n",
       "      <td>-9999.000000</td>\n",
       "    </tr>\n",
       "    <tr>\n",
       "      <th>75%</th>\n",
       "      <td>2008.000000</td>\n",
       "      <td>10.000000</td>\n",
       "      <td>23.000000</td>\n",
       "      <td>18.000000</td>\n",
       "      <td>206.000000</td>\n",
       "      <td>144.000000</td>\n",
       "      <td>10214.000000</td>\n",
       "      <td>280.000000</td>\n",
       "      <td>57.000000</td>\n",
       "      <td>8.000000</td>\n",
       "      <td>0.000000</td>\n",
       "      <td>-9999.000000</td>\n",
       "    </tr>\n",
       "    <tr>\n",
       "      <th>max</th>\n",
       "      <td>2011.000000</td>\n",
       "      <td>12.000000</td>\n",
       "      <td>31.000000</td>\n",
       "      <td>23.000000</td>\n",
       "      <td>406.000000</td>\n",
       "      <td>272.000000</td>\n",
       "      <td>10449.000000</td>\n",
       "      <td>360.000000</td>\n",
       "      <td>308.000000</td>\n",
       "      <td>9.000000</td>\n",
       "      <td>2558.000000</td>\n",
       "      <td>1760.000000</td>\n",
       "    </tr>\n",
       "  </tbody>\n",
       "</table>\n",
       "</div>"
      ],
      "text/plain": [
       "                year          month            day           hour  \\\n",
       "count  525869.000000  525869.000000  525869.000000  525869.000000   \n",
       "mean     2005.499349       6.523016      15.729663      11.499887   \n",
       "std         3.452084       3.448686       8.800135       6.922240   \n",
       "min      2000.000000       1.000000       1.000000       0.000000   \n",
       "25%      2002.000000       4.000000       8.000000       5.000000   \n",
       "50%      2005.000000       7.000000      16.000000      11.000000   \n",
       "75%      2008.000000      10.000000      23.000000      18.000000   \n",
       "max      2011.000000      12.000000      31.000000      23.000000   \n",
       "\n",
       "                temp       dew_temp       pressure     wind_angle  \\\n",
       "count  525869.000000  525869.000000  525869.000000  525869.000000   \n",
       "mean      -76.307965    -142.707722    9672.123533    -224.544584   \n",
       "std      1405.382671    1399.640272    3115.959808    2011.242691   \n",
       "min     -9999.000000   -9999.000000   -9999.000000   -9999.000000   \n",
       "25%        33.000000     -30.000000   10113.000000      70.000000   \n",
       "50%       122.000000      61.000000   10163.000000     200.000000   \n",
       "75%       206.000000     144.000000   10214.000000     280.000000   \n",
       "max       406.000000     272.000000   10449.000000     360.000000   \n",
       "\n",
       "          wind_speed       sky_code      rain_hour     rain_6hour  \n",
       "count  525869.000000  525869.000000  525869.000000  525869.000000  \n",
       "mean     -169.008468    -129.403713     -17.965936   -9231.872328  \n",
       "std      1442.698025    1152.403884     436.947495    2663.638668  \n",
       "min     -9999.000000   -9999.000000   -9999.000000   -9999.000000  \n",
       "25%        26.000000       2.000000       0.000000   -9999.000000  \n",
       "50%        41.000000       7.000000       0.000000   -9999.000000  \n",
       "75%        57.000000       8.000000       0.000000   -9999.000000  \n",
       "max       308.000000       9.000000    2558.000000    1760.000000  "
      ]
     },
     "execution_count": 53,
     "metadata": {},
     "output_type": "execute_result"
    }
   ],
   "source": [
    "df.describe()"
   ]
  },
  {
   "cell_type": "code",
   "execution_count": 54,
   "metadata": {},
   "outputs": [
    {
     "name": "stdout",
     "output_type": "stream",
     "text": [
      "<class 'pandas.core.frame.DataFrame'>\n",
      "RangeIndex: 525869 entries, 0 to 525868\n",
      "Data columns (total 13 columns):\n",
      " #   Column      Non-Null Count   Dtype \n",
      "---  ------      --------------   ----- \n",
      " 0   year        525869 non-null  int64 \n",
      " 1   month       525869 non-null  int64 \n",
      " 2   day         525869 non-null  int64 \n",
      " 3   hour        525869 non-null  int64 \n",
      " 4   temp        525869 non-null  int64 \n",
      " 5   dew_temp    525869 non-null  int64 \n",
      " 6   pressure    525869 non-null  int64 \n",
      " 7   wind_angle  525869 non-null  int64 \n",
      " 8   wind_speed  525869 non-null  int64 \n",
      " 9   sky_code    525869 non-null  int64 \n",
      " 10  rain_hour   525869 non-null  int64 \n",
      " 11  rain_6hour  525869 non-null  int64 \n",
      " 12  city        525869 non-null  object\n",
      "dtypes: int64(12), object(1)\n",
      "memory usage: 52.2+ MB\n"
     ]
    }
   ],
   "source": [
    "df.info()"
   ]
  },
  {
   "cell_type": "code",
   "execution_count": 55,
   "metadata": {},
   "outputs": [],
   "source": [
    "df = df[df.temp != -9999]"
   ]
  },
  {
   "cell_type": "markdown",
   "metadata": {
    "slideshow": null
   },
   "source": [
    "I will focus on using the temporal elements to predict the temperature.\n"
   ]
  },
  {
   "cell_type": "markdown",
   "metadata": {
    "slideshow": null
   },
   "source": [
    "### I build a \"group-by\" estimator that takes an estimator factory as an argument and builds the resulting \"group-by\" estimator on each city where each city will have it's own model. I'll then build a model to predict the temperature in a given city at a given time."
   ]
  },
  {
   "cell_type": "code",
   "execution_count": 95,
   "metadata": {},
   "outputs": [],
   "source": [
    "from sklearn import base\n",
    "\n",
    "\n",
    "class GroupbyEstimator(base.BaseEstimator, base.RegressorMixin):\n",
    "    \n",
    "    def __init__(self, column, estimator_factory):\n",
    "        self.column = column\n",
    "        self.estimator_factory = estimator_factory\n",
    "        # column is the value to group by; estimator_factory can be\n",
    "        # called to produce estimators\n",
    "    \n",
    "    def fit(self, X, y):\n",
    "        \n",
    "        lst = []\n",
    "        prt = []\n",
    "        city_names = [i for i in X[self.column].unique()]\n",
    "\n",
    "        for i in city_names:\n",
    "            lst.append(X[X[self.column] == i])\n",
    "            prt.append(np.array(X[X[self.column] == i]['temp']))\n",
    "        \n",
    "        self.bos_model = self.estimator_factory().fit(lst[0], prt[0])\n",
    "        self.bal_model = self.estimator_factory().fit(lst[1], prt[1])\n",
    "        self.chi_model = self.estimator_factory().fit(lst[2], prt[2])\n",
    "        self.nyc_model = self.estimator_factory().fit(lst[3], prt[3])\n",
    "        self.phi_model = self.estimator_factory().fit(lst[4], prt[4])\n",
    "        \n",
    "    \n",
    "        return self\n",
    "    \n",
    "    def predict(self, X):\n",
    "        \n",
    "        bos_predict = self.bos_model.predict(X[X[self.column] == 'bos'])\n",
    "        bal_predict = self.bal_model.predict(X[X[self.column] == 'bal'])\n",
    "        chi_predict = self.chi_model.predict(X[X[self.column] == 'chi'])\n",
    "        nyc_predict = self.nyc_model.predict(X[X[self.column] == 'nyc'])\n",
    "        phi_predict = self.phi_model.predict(X[X[self.column] == 'phi'])\n",
    "        \n",
    "        return list(bos_predict) + list(bal_predict) + list(chi_predict) + list(nyc_predict) + list(phi_predict)"
   ]
  },
  {
   "cell_type": "code",
   "execution_count": 151,
   "metadata": {},
   "outputs": [],
   "source": [
    "# Testing my functions"
   ]
  },
  {
   "cell_type": "code",
   "execution_count": 38,
   "metadata": {},
   "outputs": [],
   "source": [
    "city_names = [i for i in df.city.unique()]\n",
    "lst = []\n",
    "prt = []\n",
    "for i in city_names:\n",
    "    lst.append(features.fit_transform(df[df['city'] == i][['month', 'hour']]))\n",
    "    prt.append(np.array(df[df['city'] == i]['temp']))"
   ]
  },
  {
   "cell_type": "code",
   "execution_count": 25,
   "metadata": {},
   "outputs": [
    {
     "data": {
      "text/plain": [
       "array([[1., 0., 0., 0., 0., 0., 0., 0., 0., 0., 0., 0., 0.],\n",
       "       [1., 0., 0., 0., 0., 0., 0., 0., 0., 0., 0., 0., 1.],\n",
       "       [1., 0., 0., 0., 0., 0., 0., 0., 0., 0., 0., 0., 2.],\n",
       "       [1., 0., 0., 0., 0., 0., 0., 0., 0., 0., 0., 0., 3.],\n",
       "       [1., 0., 0., 0., 0., 0., 0., 0., 0., 0., 0., 0., 4.]])"
      ]
     },
     "execution_count": 25,
     "metadata": {},
     "output_type": "execute_result"
    }
   ],
   "source": [
    "lst[0].toarray()[:5]"
   ]
  },
  {
   "cell_type": "code",
   "execution_count": 41,
   "metadata": {},
   "outputs": [
    {
     "data": {
      "text/plain": [
       "[array([-11,  -6, -17, ...,  39,  33,  33]),\n",
       " array([ 22,  11,   6, ..., 117, 111, 100]),\n",
       " array([ 0,  6, -6, ..., 28, 28, 28]),\n",
       " array([  6,   6,   6, ..., 111, 111,  94]),\n",
       " array([ 33,  28,  22, ..., 128, 117, 111])]"
      ]
     },
     "execution_count": 41,
     "metadata": {},
     "output_type": "execute_result"
    }
   ],
   "source": [
    "prt"
   ]
  },
  {
   "cell_type": "code",
   "execution_count": 49,
   "metadata": {},
   "outputs": [
    {
     "data": {
      "text/plain": [
       "['bos', 'bal', 'chi', 'nyc', 'phi']"
      ]
     },
     "execution_count": 49,
     "metadata": {},
     "output_type": "execute_result"
    }
   ],
   "source": [
    "city_names"
   ]
  },
  {
   "cell_type": "code",
   "execution_count": 46,
   "metadata": {},
   "outputs": [],
   "source": [
    "bos_model = Ridge().fit(lst[0], prt[0])"
   ]
  },
  {
   "cell_type": "code",
   "execution_count": 48,
   "metadata": {},
   "outputs": [
    {
     "data": {
      "text/plain": [
       "array([-33.23234309, -31.64579514, -30.05924719, ...,  33.00444246,\n",
       "        34.59099041,  36.17753836])"
      ]
     },
     "execution_count": 48,
     "metadata": {},
     "output_type": "execute_result"
    }
   ],
   "source": [
    "bos_model.predict(lst[0])"
   ]
  },
  {
   "cell_type": "code",
   "execution_count": null,
   "metadata": {},
   "outputs": [],
   "source": []
  },
  {
   "cell_type": "code",
   "execution_count": 50,
   "metadata": {},
   "outputs": [],
   "source": [
    "city_names = [i for i in df.city.unique()]\n",
    "lst = []\n",
    "prt = []\n",
    "for i in city_names:\n",
    "    lst.append(df[df['city'] == i])\n",
    "    prt.append(np.array(df[df['city'] == i]['temp']))"
   ]
  },
  {
   "cell_type": "code",
   "execution_count": 55,
   "metadata": {},
   "outputs": [],
   "source": [
    "bos_model = season_factory().fit(lst[0], prt[0])"
   ]
  },
  {
   "cell_type": "code",
   "execution_count": 72,
   "metadata": {},
   "outputs": [],
   "source": [
    "bal_model = season_factory().fit(lst[1], prt[1])"
   ]
  },
  {
   "cell_type": "code",
   "execution_count": 56,
   "metadata": {},
   "outputs": [
    {
     "data": {
      "text/plain": [
       "array([-33.23234309, -31.64579514, -30.05924719, ...,  33.00444246,\n",
       "        34.59099041,  36.17753836])"
      ]
     },
     "execution_count": 56,
     "metadata": {},
     "output_type": "execute_result"
    }
   ],
   "source": [
    "bos_model.predict(lst[0])"
   ]
  },
  {
   "cell_type": "code",
   "execution_count": 75,
   "metadata": {},
   "outputs": [],
   "source": [
    "bos_predict = bos_model.predict(df[df['city'] == 'bos'])\n"
   ]
  },
  {
   "cell_type": "code",
   "execution_count": 76,
   "metadata": {},
   "outputs": [
    {
     "data": {
      "text/plain": [
       "array([-33.23234309, -31.64579514, -30.05924719, ...,  33.00444246,\n",
       "        34.59099041,  36.17753836])"
      ]
     },
     "execution_count": 76,
     "metadata": {},
     "output_type": "execute_result"
    }
   ],
   "source": [
    "bos_predict"
   ]
  },
  {
   "cell_type": "code",
   "execution_count": 87,
   "metadata": {},
   "outputs": [],
   "source": [
    "bal_predict = bal_model.predict(df[df['city'] == 'bal'])\n"
   ]
  },
  {
   "cell_type": "code",
   "execution_count": 88,
   "metadata": {},
   "outputs": [
    {
     "data": {
      "text/plain": [
       "array([-21.17466857, -18.53653625, -15.89840393, ...,  53.73747345,\n",
       "        56.37560578,  59.0137381 ])"
      ]
     },
     "execution_count": 88,
     "metadata": {},
     "output_type": "execute_result"
    }
   ],
   "source": [
    "bal_predict"
   ]
  },
  {
   "cell_type": "code",
   "execution_count": null,
   "metadata": {},
   "outputs": [],
   "source": [
    "list(bos_predict) + list(bal_predict)"
   ]
  },
  {
   "cell_type": "code",
   "execution_count": 57,
   "metadata": {},
   "outputs": [],
   "source": [
    "import numpy as np\n",
    "from sklearn.compose import ColumnTransformer\n",
    "from sklearn.pipeline import Pipeline\n",
    "from sklearn.model_selection import GridSearchCV\n",
    "from sklearn.linear_model import Ridge\n",
    "from sklearn.preprocessing import OneHotEncoder\n"
   ]
  },
  {
   "cell_type": "code",
   "execution_count": 52,
   "metadata": {},
   "outputs": [],
   "source": [
    "def season_factory():\n",
    "    features = ColumnTransformer([\n",
    "    ('month', OneHotEncoder(), ['month']),\n",
    "    ('numeric', 'passthrough', ['hour'])\n",
    "    ])\n",
    "    my_pipe = Pipeline([\n",
    "    ('features', features),\n",
    "    ('ridge_reg', Ridge())\n",
    "    ])\n",
    "    return my_pipe\n",
    "\n",
    "# A single estimator or a pipeline\n"
   ]
  },
  {
   "cell_type": "code",
   "execution_count": null,
   "metadata": {},
   "outputs": [],
   "source": [
    "season_factory()"
   ]
  },
  {
   "cell_type": "code",
   "execution_count": 96,
   "metadata": {
    "slideshow": null
   },
   "outputs": [],
   "source": [
    "season_model = GroupbyEstimator('city', season_factory).fit(df, df['temp'])"
   ]
  },
  {
   "cell_type": "code",
   "execution_count": null,
   "metadata": {},
   "outputs": [],
   "source": [
    "season_model.predict(df)"
   ]
  },
  {
   "cell_type": "markdown",
   "metadata": {
    "slideshow": null
   },
   "source": [
    "### We know that temperature is roughly sinusoidal, and a reasonable model might be\n",
    "\n",
    "##### $$ y_t = y_0 \\sin\\left(2\\pi\\frac{t - t_0}{T}\\right) + \\epsilon $$\n",
    "\n",
    "### As we know from Fourier analysis, that the above is equivalent to\n",
    "\n",
    "#### $$ y_t = A \\sin\\left(2\\pi\\frac{t}{T}\\right) + B \\cos\\left(2\\pi\\frac{t}{T}\\right) + \\epsilon $$\n",
    "\n",
    "### which is linear in $A$ and $B$.\n",
    "\n",
    "### I'll create a model containing sinusoidal terms on one or more time scales, and fit it to the data using a linear regression."
   ]
  },
  {
   "cell_type": "code",
   "execution_count": 9,
   "metadata": {},
   "outputs": [],
   "source": [
    "import scipy.fft\n",
    "import matplotlib.pyplot as plt"
   ]
  },
  {
   "cell_type": "code",
   "execution_count": 10,
   "metadata": {},
   "outputs": [],
   "source": [
    "fft = scipy.fft.fft((df.temp - df.temp.mean()).values)"
   ]
  },
  {
   "cell_type": "code",
   "execution_count": 104,
   "metadata": {},
   "outputs": [
    {
     "data": {
      "text/plain": [
       "(-1.0, 100.0)"
      ]
     },
     "execution_count": 104,
     "metadata": {},
     "output_type": "execute_result"
    },
    {
     "data": {
      "image/png": "[encoded data removed]",
      "text/plain": [
       "<Figure size 432x288 with 1 Axes>"
      ]
     },
     "metadata": {},
     "output_type": "display_data"
    }
   ],
   "source": [
    "plt.plot(np.abs(fft))\n",
    "plt.xlim([-1,100])"
   ]
  },
  {
   "cell_type": "code",
   "execution_count": null,
   "metadata": {},
   "outputs": [],
   "source": [
    "# With Transformers"
   ]
  },
  {
   "cell_type": "code",
   "execution_count": 72,
   "metadata": {},
   "outputs": [],
   "source": [
    "from sklearn.base import BaseEstimator\n",
    "import pandas as pd\n",
    "from sklearn.base import TransformerMixin\n",
    "\n",
    "class ToFourierData(BaseEstimator, TransformerMixin):\n",
    "    def fit(self, X, y=None):\n",
    "        return self\n",
    "    \n",
    "    def transform(self, X):\n",
    "        new = pd.to_datetime(X[['year', 'month', 'day', 'hour']]); new = pd.DataFrame(new)\n",
    "        temp = X['temp']; temp = pd.DataFrame(temp)\n",
    "        data = new.merge(temp, left_index=True, right_index=True)\n",
    "        data = data.set_index(0)\n",
    "        data['Julian'] = data.index.to_julian_date()\n",
    "        data['sin(year)'] = np.sin(data['Julian'] / 365.25 * 2 * np.pi)\n",
    "        data['cos(year)'] = np.cos(data['Julian'] / 365.25 * 2 * np.pi)\n",
    "        data['sin(season)'] = np.sin(data['Julian'] / (365.25 / 4) * 2 * np.pi)\n",
    "        data['cos(season)'] = np.cos(data['Julian'] / (365.25 / 4) * 2 * np.pi)\n",
    "        data['sin(6mo)'] = np.sin(data['Julian'] / (365.25 / 2) * 2 * np.pi)\n",
    "        data['cos(6mo)'] = np.cos(data['Julian'] / (365.25 / 2) * 2 * np.pi)\n",
    "        data['sin(month)'] = np.sin(data['Julian'] / (365.25 / 12) * 2 * np.pi)\n",
    "        data['cos(month)'] = np.cos(data['Julian'] / (365.25 / 12) * 2 * np.pi)\n",
    "        data['sin(day)'] = np.sin(data.index.hour / 24.0 * 2* np.pi)\n",
    "        data['cos(day)'] = np.cos(data.index.hour / 24.0 * 2* np.pi)\n",
    "        data['sin(hour)'] = np.sin(data.index.hour / 24.0 * 2* np.pi)\n",
    "        data['cos(day)'] = np.cos(data.index.hour / 24.0 * 2* np.pi)\n",
    "        data = data[['sin(year)', 'cos(year)', 'sin(6mo)', 'cos(6mo)',\n",
    "                     'sin(month)', 'cos(month)', 'sin(day)', 'cos(day)',\n",
    "                      'sin(season)', 'cos(season)']].reset_index()\n",
    "        data = data.drop(0, axis=1)\n",
    "\n",
    "        return data"
   ]
  },
  {
   "cell_type": "code",
   "execution_count": 73,
   "metadata": {},
   "outputs": [
    {
     "data": {
      "text/html": [
       "<div>\n",
       "<style scoped>\n",
       "    .dataframe tbody tr th:only-of-type {\n",
       "        vertical-align: middle;\n",
       "    }\n",
       "\n",
       "    .dataframe tbody tr th {\n",
       "        vertical-align: top;\n",
       "    }\n",
       "\n",
       "    .dataframe thead th {\n",
       "        text-align: right;\n",
       "    }\n",
       "</style>\n",
       "<table border=\"1\" class=\"dataframe\">\n",
       "  <thead>\n",
       "    <tr style=\"text-align: right;\">\n",
       "      <th></th>\n",
       "      <th>sin(year)</th>\n",
       "      <th>cos(year)</th>\n",
       "      <th>sin(6mo)</th>\n",
       "      <th>cos(6mo)</th>\n",
       "      <th>sin(month)</th>\n",
       "      <th>cos(month)</th>\n",
       "      <th>sin(day)</th>\n",
       "      <th>cos(day)</th>\n",
       "      <th>sin(season)</th>\n",
       "      <th>cos(season)</th>\n",
       "    </tr>\n",
       "  </thead>\n",
       "  <tbody>\n",
       "    <tr>\n",
       "      <th>0</th>\n",
       "      <td>-0.230151</td>\n",
       "      <td>0.973155</td>\n",
       "      <td>-0.447945</td>\n",
       "      <td>0.894061</td>\n",
       "      <td>-0.347403</td>\n",
       "      <td>-0.937716</td>\n",
       "      <td>0.000000</td>\n",
       "      <td>1.000000</td>\n",
       "      <td>-0.800980</td>\n",
       "      <td>0.598691</td>\n",
       "    </tr>\n",
       "    <tr>\n",
       "      <th>1</th>\n",
       "      <td>-0.229453</td>\n",
       "      <td>0.973320</td>\n",
       "      <td>-0.446663</td>\n",
       "      <td>0.894702</td>\n",
       "      <td>-0.355455</td>\n",
       "      <td>-0.934693</td>\n",
       "      <td>0.258819</td>\n",
       "      <td>0.965926</td>\n",
       "      <td>-0.799261</td>\n",
       "      <td>0.600985</td>\n",
       "    </tr>\n",
       "    <tr>\n",
       "      <th>2</th>\n",
       "      <td>-0.228756</td>\n",
       "      <td>0.973484</td>\n",
       "      <td>-0.445380</td>\n",
       "      <td>0.895342</td>\n",
       "      <td>-0.363482</td>\n",
       "      <td>-0.931601</td>\n",
       "      <td>0.500000</td>\n",
       "      <td>0.866025</td>\n",
       "      <td>-0.797534</td>\n",
       "      <td>0.603274</td>\n",
       "    </tr>\n",
       "    <tr>\n",
       "      <th>3</th>\n",
       "      <td>-0.228058</td>\n",
       "      <td>0.973648</td>\n",
       "      <td>-0.444096</td>\n",
       "      <td>0.895979</td>\n",
       "      <td>-0.371481</td>\n",
       "      <td>-0.928441</td>\n",
       "      <td>0.707107</td>\n",
       "      <td>0.707107</td>\n",
       "      <td>-0.795801</td>\n",
       "      <td>0.605558</td>\n",
       "    </tr>\n",
       "    <tr>\n",
       "      <th>4</th>\n",
       "      <td>-0.227360</td>\n",
       "      <td>0.973811</td>\n",
       "      <td>-0.442811</td>\n",
       "      <td>0.896615</td>\n",
       "      <td>-0.379453</td>\n",
       "      <td>-0.925211</td>\n",
       "      <td>0.866025</td>\n",
       "      <td>0.500000</td>\n",
       "      <td>-0.794062</td>\n",
       "      <td>0.607837</td>\n",
       "    </tr>\n",
       "    <tr>\n",
       "      <th>...</th>\n",
       "      <td>...</td>\n",
       "      <td>...</td>\n",
       "      <td>...</td>\n",
       "      <td>...</td>\n",
       "      <td>...</td>\n",
       "      <td>...</td>\n",
       "      <td>...</td>\n",
       "      <td>...</td>\n",
       "      <td>...</td>\n",
       "      <td>...</td>\n",
       "    </tr>\n",
       "    <tr>\n",
       "      <th>515576</th>\n",
       "      <td>-0.233637</td>\n",
       "      <td>0.972324</td>\n",
       "      <td>-0.454342</td>\n",
       "      <td>0.890827</td>\n",
       "      <td>-0.306767</td>\n",
       "      <td>-0.951785</td>\n",
       "      <td>-0.965926</td>\n",
       "      <td>0.258819</td>\n",
       "      <td>-0.809480</td>\n",
       "      <td>0.587147</td>\n",
       "    </tr>\n",
       "    <tr>\n",
       "      <th>515577</th>\n",
       "      <td>-0.232940</td>\n",
       "      <td>0.972491</td>\n",
       "      <td>-0.453064</td>\n",
       "      <td>0.891478</td>\n",
       "      <td>-0.314942</td>\n",
       "      <td>-0.949111</td>\n",
       "      <td>-0.866025</td>\n",
       "      <td>0.500000</td>\n",
       "      <td>-0.807793</td>\n",
       "      <td>0.589466</td>\n",
       "    </tr>\n",
       "    <tr>\n",
       "      <th>515578</th>\n",
       "      <td>-0.232243</td>\n",
       "      <td>0.972658</td>\n",
       "      <td>-0.451786</td>\n",
       "      <td>0.892126</td>\n",
       "      <td>-0.323093</td>\n",
       "      <td>-0.946367</td>\n",
       "      <td>-0.707107</td>\n",
       "      <td>0.707107</td>\n",
       "      <td>-0.806100</td>\n",
       "      <td>0.591779</td>\n",
       "    </tr>\n",
       "    <tr>\n",
       "      <th>515579</th>\n",
       "      <td>-0.231546</td>\n",
       "      <td>0.972824</td>\n",
       "      <td>-0.450506</td>\n",
       "      <td>0.892773</td>\n",
       "      <td>-0.331221</td>\n",
       "      <td>-0.943553</td>\n",
       "      <td>-0.500000</td>\n",
       "      <td>0.866025</td>\n",
       "      <td>-0.804400</td>\n",
       "      <td>0.594088</td>\n",
       "    </tr>\n",
       "    <tr>\n",
       "      <th>515580</th>\n",
       "      <td>-0.230848</td>\n",
       "      <td>0.972990</td>\n",
       "      <td>-0.449226</td>\n",
       "      <td>0.893418</td>\n",
       "      <td>-0.339325</td>\n",
       "      <td>-0.940669</td>\n",
       "      <td>-0.258819</td>\n",
       "      <td>0.965926</td>\n",
       "      <td>-0.802694</td>\n",
       "      <td>0.596392</td>\n",
       "    </tr>\n",
       "  </tbody>\n",
       "</table>\n",
       "<p>515581 rows × 10 columns</p>\n",
       "</div>"
      ],
      "text/plain": [
       "        sin(year)  cos(year)  sin(6mo)  cos(6mo)  sin(month)  cos(month)  \\\n",
       "0       -0.230151   0.973155 -0.447945  0.894061   -0.347403   -0.937716   \n",
       "1       -0.229453   0.973320 -0.446663  0.894702   -0.355455   -0.934693   \n",
       "2       -0.228756   0.973484 -0.445380  0.895342   -0.363482   -0.931601   \n",
       "3       -0.228058   0.973648 -0.444096  0.895979   -0.371481   -0.928441   \n",
       "4       -0.227360   0.973811 -0.442811  0.896615   -0.379453   -0.925211   \n",
       "...           ...        ...       ...       ...         ...         ...   \n",
       "515576  -0.233637   0.972324 -0.454342  0.890827   -0.306767   -0.951785   \n",
       "515577  -0.232940   0.972491 -0.453064  0.891478   -0.314942   -0.949111   \n",
       "515578  -0.232243   0.972658 -0.451786  0.892126   -0.323093   -0.946367   \n",
       "515579  -0.231546   0.972824 -0.450506  0.892773   -0.331221   -0.943553   \n",
       "515580  -0.230848   0.972990 -0.449226  0.893418   -0.339325   -0.940669   \n",
       "\n",
       "        sin(day)  cos(day)  sin(season)  cos(season)  \n",
       "0       0.000000  1.000000    -0.800980     0.598691  \n",
       "1       0.258819  0.965926    -0.799261     0.600985  \n",
       "2       0.500000  0.866025    -0.797534     0.603274  \n",
       "3       0.707107  0.707107    -0.795801     0.605558  \n",
       "4       0.866025  0.500000    -0.794062     0.607837  \n",
       "...          ...       ...          ...          ...  \n",
       "515576 -0.965926  0.258819    -0.809480     0.587147  \n",
       "515577 -0.866025  0.500000    -0.807793     0.589466  \n",
       "515578 -0.707107  0.707107    -0.806100     0.591779  \n",
       "515579 -0.500000  0.866025    -0.804400     0.594088  \n",
       "515580 -0.258819  0.965926    -0.802694     0.596392  \n",
       "\n",
       "[515581 rows x 10 columns]"
      ]
     },
     "execution_count": 73,
     "metadata": {},
     "output_type": "execute_result"
    }
   ],
   "source": [
    "ToFourierData().fit_transform(df)"
   ]
  },
  {
   "cell_type": "code",
   "execution_count": 74,
   "metadata": {},
   "outputs": [],
   "source": [
    "from sklearn.pipeline import Pipeline\n",
    "from sklearn.linear_model import LinearRegression\n",
    "\n",
    "\n",
    "fourier_model = Pipeline([\n",
    "    ('fourier_data', ToFourierData()),\n",
    "    ('lr', LinearRegression())\n",
    "])"
   ]
  },
  {
   "cell_type": "code",
   "execution_count": 76,
   "metadata": {},
   "outputs": [],
   "source": [
    "final_model = fourier_model.fit(df, df['temp'] )"
   ]
  },
  {
   "cell_type": "code",
   "execution_count": 77,
   "metadata": {},
   "outputs": [
    {
     "data": {
      "text/plain": [
       "array([ 20.36534407,  13.12737206,   5.33823122,  -2.47260516,\n",
       "        -9.77418859, -16.0702787 , -20.93316129, -24.03279642,\n",
       "       -25.15931013, -24.23729711, -21.3309595 , -16.63973168,\n",
       "       -10.48468925,  -3.28666828,   4.46241386,  12.23308183,\n",
       "        19.49438508,  25.75008122,  30.57245402,  33.63146155])"
      ]
     },
     "execution_count": 77,
     "metadata": {},
     "output_type": "execute_result"
    }
   ],
   "source": [
    "final_model.predict(df[:20])"
   ]
  },
  {
   "cell_type": "code",
   "execution_count": 79,
   "metadata": {},
   "outputs": [
    {
     "data": {
      "text/plain": [
       "0.7787018835999315"
      ]
     },
     "execution_count": 79,
     "metadata": {},
     "output_type": "execute_result"
    }
   ],
   "source": [
    "final_model.score(df, df['temp'])"
   ]
  },
  {
   "cell_type": "code",
   "execution_count": null,
   "metadata": {},
   "outputs": [],
   "source": [
    "# testing my functions"
   ]
  },
  {
   "cell_type": "code",
   "execution_count": 14,
   "metadata": {},
   "outputs": [
    {
     "data": {
      "text/html": [
       "<div>\n",
       "<style scoped>\n",
       "    .dataframe tbody tr th:only-of-type {\n",
       "        vertical-align: middle;\n",
       "    }\n",
       "\n",
       "    .dataframe tbody tr th {\n",
       "        vertical-align: top;\n",
       "    }\n",
       "\n",
       "    .dataframe thead th {\n",
       "        text-align: right;\n",
       "    }\n",
       "</style>\n",
       "<table border=\"1\" class=\"dataframe\">\n",
       "  <thead>\n",
       "    <tr style=\"text-align: right;\">\n",
       "      <th></th>\n",
       "      <th>year</th>\n",
       "      <th>month</th>\n",
       "      <th>day</th>\n",
       "      <th>hour</th>\n",
       "      <th>temp</th>\n",
       "      <th>dew_temp</th>\n",
       "      <th>pressure</th>\n",
       "      <th>wind_angle</th>\n",
       "      <th>wind_speed</th>\n",
       "      <th>sky_code</th>\n",
       "      <th>rain_hour</th>\n",
       "      <th>rain_6hour</th>\n",
       "      <th>city</th>\n",
       "    </tr>\n",
       "  </thead>\n",
       "  <tbody>\n",
       "    <tr>\n",
       "      <th>0</th>\n",
       "      <td>2000</td>\n",
       "      <td>1</td>\n",
       "      <td>1</td>\n",
       "      <td>0</td>\n",
       "      <td>-11</td>\n",
       "      <td>-72</td>\n",
       "      <td>10197</td>\n",
       "      <td>220</td>\n",
       "      <td>26</td>\n",
       "      <td>4</td>\n",
       "      <td>0</td>\n",
       "      <td>0</td>\n",
       "      <td>bos</td>\n",
       "    </tr>\n",
       "    <tr>\n",
       "      <th>1</th>\n",
       "      <td>2000</td>\n",
       "      <td>1</td>\n",
       "      <td>1</td>\n",
       "      <td>1</td>\n",
       "      <td>-6</td>\n",
       "      <td>-78</td>\n",
       "      <td>10206</td>\n",
       "      <td>230</td>\n",
       "      <td>26</td>\n",
       "      <td>2</td>\n",
       "      <td>0</td>\n",
       "      <td>-9999</td>\n",
       "      <td>bos</td>\n",
       "    </tr>\n",
       "    <tr>\n",
       "      <th>2</th>\n",
       "      <td>2000</td>\n",
       "      <td>1</td>\n",
       "      <td>1</td>\n",
       "      <td>2</td>\n",
       "      <td>-17</td>\n",
       "      <td>-78</td>\n",
       "      <td>10211</td>\n",
       "      <td>230</td>\n",
       "      <td>36</td>\n",
       "      <td>0</td>\n",
       "      <td>0</td>\n",
       "      <td>-9999</td>\n",
       "      <td>bos</td>\n",
       "    </tr>\n",
       "    <tr>\n",
       "      <th>3</th>\n",
       "      <td>2000</td>\n",
       "      <td>1</td>\n",
       "      <td>1</td>\n",
       "      <td>3</td>\n",
       "      <td>-17</td>\n",
       "      <td>-78</td>\n",
       "      <td>10214</td>\n",
       "      <td>230</td>\n",
       "      <td>36</td>\n",
       "      <td>0</td>\n",
       "      <td>0</td>\n",
       "      <td>-9999</td>\n",
       "      <td>bos</td>\n",
       "    </tr>\n",
       "    <tr>\n",
       "      <th>4</th>\n",
       "      <td>2000</td>\n",
       "      <td>1</td>\n",
       "      <td>1</td>\n",
       "      <td>4</td>\n",
       "      <td>-17</td>\n",
       "      <td>-78</td>\n",
       "      <td>10216</td>\n",
       "      <td>230</td>\n",
       "      <td>36</td>\n",
       "      <td>0</td>\n",
       "      <td>0</td>\n",
       "      <td>-9999</td>\n",
       "      <td>bos</td>\n",
       "    </tr>\n",
       "    <tr>\n",
       "      <th>...</th>\n",
       "      <td>...</td>\n",
       "      <td>...</td>\n",
       "      <td>...</td>\n",
       "      <td>...</td>\n",
       "      <td>...</td>\n",
       "      <td>...</td>\n",
       "      <td>...</td>\n",
       "      <td>...</td>\n",
       "      <td>...</td>\n",
       "      <td>...</td>\n",
       "      <td>...</td>\n",
       "      <td>...</td>\n",
       "      <td>...</td>\n",
       "    </tr>\n",
       "    <tr>\n",
       "      <th>525864</th>\n",
       "      <td>2011</td>\n",
       "      <td>12</td>\n",
       "      <td>31</td>\n",
       "      <td>19</td>\n",
       "      <td>144</td>\n",
       "      <td>39</td>\n",
       "      <td>10105</td>\n",
       "      <td>280</td>\n",
       "      <td>46</td>\n",
       "      <td>-9999</td>\n",
       "      <td>0</td>\n",
       "      <td>-9999</td>\n",
       "      <td>phi</td>\n",
       "    </tr>\n",
       "    <tr>\n",
       "      <th>525865</th>\n",
       "      <td>2011</td>\n",
       "      <td>12</td>\n",
       "      <td>31</td>\n",
       "      <td>20</td>\n",
       "      <td>139</td>\n",
       "      <td>33</td>\n",
       "      <td>10113</td>\n",
       "      <td>310</td>\n",
       "      <td>67</td>\n",
       "      <td>8</td>\n",
       "      <td>0</td>\n",
       "      <td>-9999</td>\n",
       "      <td>phi</td>\n",
       "    </tr>\n",
       "    <tr>\n",
       "      <th>525866</th>\n",
       "      <td>2011</td>\n",
       "      <td>12</td>\n",
       "      <td>31</td>\n",
       "      <td>21</td>\n",
       "      <td>128</td>\n",
       "      <td>33</td>\n",
       "      <td>10125</td>\n",
       "      <td>300</td>\n",
       "      <td>82</td>\n",
       "      <td>8</td>\n",
       "      <td>0</td>\n",
       "      <td>-9999</td>\n",
       "      <td>phi</td>\n",
       "    </tr>\n",
       "    <tr>\n",
       "      <th>525867</th>\n",
       "      <td>2011</td>\n",
       "      <td>12</td>\n",
       "      <td>31</td>\n",
       "      <td>22</td>\n",
       "      <td>117</td>\n",
       "      <td>28</td>\n",
       "      <td>10138</td>\n",
       "      <td>300</td>\n",
       "      <td>46</td>\n",
       "      <td>4</td>\n",
       "      <td>0</td>\n",
       "      <td>-9999</td>\n",
       "      <td>phi</td>\n",
       "    </tr>\n",
       "    <tr>\n",
       "      <th>525868</th>\n",
       "      <td>2011</td>\n",
       "      <td>12</td>\n",
       "      <td>31</td>\n",
       "      <td>23</td>\n",
       "      <td>111</td>\n",
       "      <td>22</td>\n",
       "      <td>10151</td>\n",
       "      <td>290</td>\n",
       "      <td>46</td>\n",
       "      <td>7</td>\n",
       "      <td>0</td>\n",
       "      <td>-9999</td>\n",
       "      <td>phi</td>\n",
       "    </tr>\n",
       "  </tbody>\n",
       "</table>\n",
       "<p>515581 rows × 13 columns</p>\n",
       "</div>"
      ],
      "text/plain": [
       "        year  month  day  hour  temp  dew_temp  pressure  wind_angle  \\\n",
       "0       2000      1    1     0   -11       -72     10197         220   \n",
       "1       2000      1    1     1    -6       -78     10206         230   \n",
       "2       2000      1    1     2   -17       -78     10211         230   \n",
       "3       2000      1    1     3   -17       -78     10214         230   \n",
       "4       2000      1    1     4   -17       -78     10216         230   \n",
       "...      ...    ...  ...   ...   ...       ...       ...         ...   \n",
       "525864  2011     12   31    19   144        39     10105         280   \n",
       "525865  2011     12   31    20   139        33     10113         310   \n",
       "525866  2011     12   31    21   128        33     10125         300   \n",
       "525867  2011     12   31    22   117        28     10138         300   \n",
       "525868  2011     12   31    23   111        22     10151         290   \n",
       "\n",
       "        wind_speed  sky_code  rain_hour  rain_6hour city  \n",
       "0               26         4          0           0  bos  \n",
       "1               26         2          0       -9999  bos  \n",
       "2               36         0          0       -9999  bos  \n",
       "3               36         0          0       -9999  bos  \n",
       "4               36         0          0       -9999  bos  \n",
       "...            ...       ...        ...         ...  ...  \n",
       "525864          46     -9999          0       -9999  phi  \n",
       "525865          67         8          0       -9999  phi  \n",
       "525866          82         8          0       -9999  phi  \n",
       "525867          46         4          0       -9999  phi  \n",
       "525868          46         7          0       -9999  phi  \n",
       "\n",
       "[515581 rows x 13 columns]"
      ]
     },
     "execution_count": 14,
     "metadata": {},
     "output_type": "execute_result"
    }
   ],
   "source": [
    "df"
   ]
  },
  {
   "cell_type": "code",
   "execution_count": 20,
   "metadata": {},
   "outputs": [],
   "source": [
    "new = pd.to_datetime(df[['year', 'month', 'day', 'hour']])\n"
   ]
  },
  {
   "cell_type": "code",
   "execution_count": 21,
   "metadata": {},
   "outputs": [],
   "source": [
    "new = pd.DataFrame(new)"
   ]
  },
  {
   "cell_type": "code",
   "execution_count": 22,
   "metadata": {},
   "outputs": [],
   "source": [
    "temp = df['temp']"
   ]
  },
  {
   "cell_type": "code",
   "execution_count": 23,
   "metadata": {},
   "outputs": [],
   "source": [
    "temp = pd.DataFrame(temp)"
   ]
  },
  {
   "cell_type": "code",
   "execution_count": 24,
   "metadata": {},
   "outputs": [],
   "source": [
    "data = new.merge(temp, left_index=True, right_index=True)\n"
   ]
  },
  {
   "cell_type": "code",
   "execution_count": 25,
   "metadata": {},
   "outputs": [],
   "source": [
    "data = data.set_index(0)\n",
    "data['Julian'] = data.index.to_julian_date()\n"
   ]
  },
  {
   "cell_type": "code",
   "execution_count": 32,
   "metadata": {},
   "outputs": [],
   "source": [
    "data['sin(year)'] = np.sin(data['Julian'] / 365.25 * 2 * np.pi)\n",
    "data['cos(year)'] = np.cos(data['Julian'] / 365.25 * 2 * np.pi)\n",
    "data['sin(season)'] = np.sin(data['Julian'] / (365.25 / 4) * 2 * np.pi)\n",
    "data['cos(season)'] = np.cos(data['Julian'] / (365.25 / 4) * 2 * np.pi)\n",
    "data['sin(6mo)'] = np.sin(data['Julian'] / (365.25 / 2) * 2 * np.pi)\n",
    "data['cos(6mo)'] = np.cos(data['Julian'] / (365.25 / 2) * 2 * np.pi)\n",
    "data['sin(month)'] = np.sin(data['Julian'] / (365.25 / 12) * 2 * np.pi)\n",
    "data['cos(month)'] = np.cos(data['Julian'] / (365.25 / 12) * 2 * np.pi)\n",
    "data['sin(day)'] = np.sin(data.index.hour / 24.0 * 2* np.pi)\n",
    "data['cos(day)'] = np.cos(data.index.hour / 24.0 * 2* np.pi)\n",
    "data['sin(hour)'] = np.sin(data.index.hour / 24.0 * 2* np.pi)\n",
    "data['cos(day)'] = np.cos(data.index.hour / 24.0 * 2* np.pi)"
   ]
  },
  {
   "cell_type": "code",
   "execution_count": 63,
   "metadata": {},
   "outputs": [],
   "source": [
    "data = data[['sin(year)', 'cos(year)', 'sin(6mo)', 'cos(6mo)', 'sin(month)', 'cos(month)', 'sin(day)', 'cos(day)',\n",
    "     'sin(season)', 'cos(season)']].reset_index()"
   ]
  },
  {
   "cell_type": "code",
   "execution_count": 64,
   "metadata": {},
   "outputs": [
    {
     "data": {
      "text/html": [
       "<div>\n",
       "<style scoped>\n",
       "    .dataframe tbody tr th:only-of-type {\n",
       "        vertical-align: middle;\n",
       "    }\n",
       "\n",
       "    .dataframe tbody tr th {\n",
       "        vertical-align: top;\n",
       "    }\n",
       "\n",
       "    .dataframe thead th {\n",
       "        text-align: right;\n",
       "    }\n",
       "</style>\n",
       "<table border=\"1\" class=\"dataframe\">\n",
       "  <thead>\n",
       "    <tr style=\"text-align: right;\">\n",
       "      <th></th>\n",
       "      <th>sin(year)</th>\n",
       "      <th>cos(year)</th>\n",
       "      <th>sin(6mo)</th>\n",
       "      <th>cos(6mo)</th>\n",
       "      <th>sin(month)</th>\n",
       "      <th>cos(month)</th>\n",
       "      <th>sin(day)</th>\n",
       "      <th>cos(day)</th>\n",
       "      <th>sin(season)</th>\n",
       "      <th>cos(season)</th>\n",
       "    </tr>\n",
       "  </thead>\n",
       "  <tbody>\n",
       "    <tr>\n",
       "      <th>0</th>\n",
       "      <td>-0.230151</td>\n",
       "      <td>0.973155</td>\n",
       "      <td>-0.447945</td>\n",
       "      <td>0.894061</td>\n",
       "      <td>-0.347403</td>\n",
       "      <td>-0.937716</td>\n",
       "      <td>0.000000</td>\n",
       "      <td>1.000000</td>\n",
       "      <td>-0.800980</td>\n",
       "      <td>0.598691</td>\n",
       "    </tr>\n",
       "    <tr>\n",
       "      <th>1</th>\n",
       "      <td>-0.229453</td>\n",
       "      <td>0.973320</td>\n",
       "      <td>-0.446663</td>\n",
       "      <td>0.894702</td>\n",
       "      <td>-0.355455</td>\n",
       "      <td>-0.934693</td>\n",
       "      <td>0.258819</td>\n",
       "      <td>0.965926</td>\n",
       "      <td>-0.799261</td>\n",
       "      <td>0.600985</td>\n",
       "    </tr>\n",
       "    <tr>\n",
       "      <th>2</th>\n",
       "      <td>-0.228756</td>\n",
       "      <td>0.973484</td>\n",
       "      <td>-0.445380</td>\n",
       "      <td>0.895342</td>\n",
       "      <td>-0.363482</td>\n",
       "      <td>-0.931601</td>\n",
       "      <td>0.500000</td>\n",
       "      <td>0.866025</td>\n",
       "      <td>-0.797534</td>\n",
       "      <td>0.603274</td>\n",
       "    </tr>\n",
       "    <tr>\n",
       "      <th>3</th>\n",
       "      <td>-0.228058</td>\n",
       "      <td>0.973648</td>\n",
       "      <td>-0.444096</td>\n",
       "      <td>0.895979</td>\n",
       "      <td>-0.371481</td>\n",
       "      <td>-0.928441</td>\n",
       "      <td>0.707107</td>\n",
       "      <td>0.707107</td>\n",
       "      <td>-0.795801</td>\n",
       "      <td>0.605558</td>\n",
       "    </tr>\n",
       "    <tr>\n",
       "      <th>4</th>\n",
       "      <td>-0.227360</td>\n",
       "      <td>0.973811</td>\n",
       "      <td>-0.442811</td>\n",
       "      <td>0.896615</td>\n",
       "      <td>-0.379453</td>\n",
       "      <td>-0.925211</td>\n",
       "      <td>0.866025</td>\n",
       "      <td>0.500000</td>\n",
       "      <td>-0.794062</td>\n",
       "      <td>0.607837</td>\n",
       "    </tr>\n",
       "    <tr>\n",
       "      <th>...</th>\n",
       "      <td>...</td>\n",
       "      <td>...</td>\n",
       "      <td>...</td>\n",
       "      <td>...</td>\n",
       "      <td>...</td>\n",
       "      <td>...</td>\n",
       "      <td>...</td>\n",
       "      <td>...</td>\n",
       "      <td>...</td>\n",
       "      <td>...</td>\n",
       "    </tr>\n",
       "    <tr>\n",
       "      <th>515576</th>\n",
       "      <td>-0.233637</td>\n",
       "      <td>0.972324</td>\n",
       "      <td>-0.454342</td>\n",
       "      <td>0.890827</td>\n",
       "      <td>-0.306767</td>\n",
       "      <td>-0.951785</td>\n",
       "      <td>-0.965926</td>\n",
       "      <td>0.258819</td>\n",
       "      <td>-0.809480</td>\n",
       "      <td>0.587147</td>\n",
       "    </tr>\n",
       "    <tr>\n",
       "      <th>515577</th>\n",
       "      <td>-0.232940</td>\n",
       "      <td>0.972491</td>\n",
       "      <td>-0.453064</td>\n",
       "      <td>0.891478</td>\n",
       "      <td>-0.314942</td>\n",
       "      <td>-0.949111</td>\n",
       "      <td>-0.866025</td>\n",
       "      <td>0.500000</td>\n",
       "      <td>-0.807793</td>\n",
       "      <td>0.589466</td>\n",
       "    </tr>\n",
       "    <tr>\n",
       "      <th>515578</th>\n",
       "      <td>-0.232243</td>\n",
       "      <td>0.972658</td>\n",
       "      <td>-0.451786</td>\n",
       "      <td>0.892126</td>\n",
       "      <td>-0.323093</td>\n",
       "      <td>-0.946367</td>\n",
       "      <td>-0.707107</td>\n",
       "      <td>0.707107</td>\n",
       "      <td>-0.806100</td>\n",
       "      <td>0.591779</td>\n",
       "    </tr>\n",
       "    <tr>\n",
       "      <th>515579</th>\n",
       "      <td>-0.231546</td>\n",
       "      <td>0.972824</td>\n",
       "      <td>-0.450506</td>\n",
       "      <td>0.892773</td>\n",
       "      <td>-0.331221</td>\n",
       "      <td>-0.943553</td>\n",
       "      <td>-0.500000</td>\n",
       "      <td>0.866025</td>\n",
       "      <td>-0.804400</td>\n",
       "      <td>0.594088</td>\n",
       "    </tr>\n",
       "    <tr>\n",
       "      <th>515580</th>\n",
       "      <td>-0.230848</td>\n",
       "      <td>0.972990</td>\n",
       "      <td>-0.449226</td>\n",
       "      <td>0.893418</td>\n",
       "      <td>-0.339325</td>\n",
       "      <td>-0.940669</td>\n",
       "      <td>-0.258819</td>\n",
       "      <td>0.965926</td>\n",
       "      <td>-0.802694</td>\n",
       "      <td>0.596392</td>\n",
       "    </tr>\n",
       "  </tbody>\n",
       "</table>\n",
       "<p>515581 rows × 10 columns</p>\n",
       "</div>"
      ],
      "text/plain": [
       "        sin(year)  cos(year)  sin(6mo)  cos(6mo)  sin(month)  cos(month)  \\\n",
       "0       -0.230151   0.973155 -0.447945  0.894061   -0.347403   -0.937716   \n",
       "1       -0.229453   0.973320 -0.446663  0.894702   -0.355455   -0.934693   \n",
       "2       -0.228756   0.973484 -0.445380  0.895342   -0.363482   -0.931601   \n",
       "3       -0.228058   0.973648 -0.444096  0.895979   -0.371481   -0.928441   \n",
       "4       -0.227360   0.973811 -0.442811  0.896615   -0.379453   -0.925211   \n",
       "...           ...        ...       ...       ...         ...         ...   \n",
       "515576  -0.233637   0.972324 -0.454342  0.890827   -0.306767   -0.951785   \n",
       "515577  -0.232940   0.972491 -0.453064  0.891478   -0.314942   -0.949111   \n",
       "515578  -0.232243   0.972658 -0.451786  0.892126   -0.323093   -0.946367   \n",
       "515579  -0.231546   0.972824 -0.450506  0.892773   -0.331221   -0.943553   \n",
       "515580  -0.230848   0.972990 -0.449226  0.893418   -0.339325   -0.940669   \n",
       "\n",
       "        sin(day)  cos(day)  sin(season)  cos(season)  \n",
       "0       0.000000  1.000000    -0.800980     0.598691  \n",
       "1       0.258819  0.965926    -0.799261     0.600985  \n",
       "2       0.500000  0.866025    -0.797534     0.603274  \n",
       "3       0.707107  0.707107    -0.795801     0.605558  \n",
       "4       0.866025  0.500000    -0.794062     0.607837  \n",
       "...          ...       ...          ...          ...  \n",
       "515576 -0.965926  0.258819    -0.809480     0.587147  \n",
       "515577 -0.866025  0.500000    -0.807793     0.589466  \n",
       "515578 -0.707107  0.707107    -0.806100     0.591779  \n",
       "515579 -0.500000  0.866025    -0.804400     0.594088  \n",
       "515580 -0.258819  0.965926    -0.802694     0.596392  \n",
       "\n",
       "[515581 rows x 10 columns]"
      ]
     },
     "execution_count": 64,
     "metadata": {},
     "output_type": "execute_result"
    }
   ],
   "source": [
    "data.drop(0, axis=1)"
   ]
  },
  {
   "cell_type": "code",
   "execution_count": 137,
   "metadata": {},
   "outputs": [
    {
     "data": {
      "text/plain": [
       "515581"
      ]
     },
     "execution_count": 137,
     "metadata": {},
     "output_type": "execute_result"
    }
   ],
   "source": [
    "len(a)"
   ]
  },
  {
   "cell_type": "code",
   "execution_count": 80,
   "metadata": {
    "slideshow": null
   },
   "outputs": [],
   "source": [
    "fourier_model = final_model"
   ]
  }
 ],
 "metadata": {
  "kernelspec": {
   "display_name": "Python 3 (ipykernel)",
   "language": "python",
   "name": "python3"
  },
  "language_info": {
   "codemirror_mode": {
    "name": "ipython",
    "version": 3
   },
   "file_extension": ".py",
   "mimetype": "text/x-python",
   "name": "python",
   "nbconvert_exporter": "python",
   "pygments_lexer": "ipython3",
   "version": "3.9.12"
  },
  "nbclean": true
 },
 "nbformat": 4,
 "nbformat_minor": 4
}
